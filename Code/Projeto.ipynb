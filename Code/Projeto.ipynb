{
 "cells": [
  {
   "cell_type": "code",
   "execution_count": 34,
   "metadata": {
    "id": "PFZUEqhlbLKT"
   },
   "outputs": [],
   "source": [
    "import numpy as np\n",
    "import matplotlib.pyplot as plt\n",
    "import xarray as xr\n",
    "import pandas as pd\n",
    "import verde as vd\n",
    "import harmonica as hm\n",
    "import boule as bl\n",
    "import ensaio\n",
    "import pygmt\n",
    "import pyproj"
   ]
  },
  {
   "cell_type": "markdown",
   "metadata": {
    "id": "aQgjXGj6elhc"
   },
   "source": [
    "## Carrega os dados grav"
   ]
  },
  {
   "cell_type": "code",
   "execution_count": 35,
   "metadata": {
    "id": "6jQ6T40Qc0w7"
   },
   "outputs": [],
   "source": [
    "path_gravity = ensaio.fetch_southern_africa_gravity(version=1)\n",
    "path_topography = ensaio.fetch_earth_topography(version=1)\n",
    "path_geoid  = ensaio.fetch_earth_geoid(version=1)"
   ]
  },
  {
   "cell_type": "code",
   "execution_count": 36,
   "metadata": {
    "colab": {
     "base_uri": "https://localhost:8080/",
     "height": 424
    },
    "id": "39HfqwPyc6oI",
    "outputId": "9f6f27f5-4fa4-4c68-ba60-b49e9926a2cb"
   },
   "outputs": [
    {
     "data": {
      "text/html": [
       "<div>\n",
       "<style scoped>\n",
       "    .dataframe tbody tr th:only-of-type {\n",
       "        vertical-align: middle;\n",
       "    }\n",
       "\n",
       "    .dataframe tbody tr th {\n",
       "        vertical-align: top;\n",
       "    }\n",
       "\n",
       "    .dataframe thead th {\n",
       "        text-align: right;\n",
       "    }\n",
       "</style>\n",
       "<table border=\"1\" class=\"dataframe\">\n",
       "  <thead>\n",
       "    <tr style=\"text-align: right;\">\n",
       "      <th></th>\n",
       "      <th>Station</th>\n",
       "      <th>Reading</th>\n",
       "      <th>Time</th>\n",
       "      <th>Date</th>\n",
       "      <th>Elevation</th>\n",
       "      <th>Height</th>\n",
       "      <th>Water</th>\n",
       "      <th>Ice</th>\n",
       "      <th>Terrain</th>\n",
       "      <th>Slope</th>\n",
       "      <th>X</th>\n",
       "      <th>Y</th>\n",
       "      <th>Longitude</th>\n",
       "      <th>Latitude</th>\n",
       "      <th>Gravity</th>\n",
       "      <th>TideCorr</th>\n",
       "      <th>Bouguer</th>\n",
       "      <th>FreeAir</th>\n",
       "      <th>Source</th>\n",
       "    </tr>\n",
       "  </thead>\n",
       "  <tbody>\n",
       "    <tr>\n",
       "      <th>0</th>\n",
       "      <td>1</td>\n",
       "      <td>2239.390</td>\n",
       "      <td>14:28:00</td>\n",
       "      <td>2019/12/03</td>\n",
       "      <td>147.94</td>\n",
       "      <td>0</td>\n",
       "      <td>0</td>\n",
       "      <td>0</td>\n",
       "      <td>0</td>\n",
       "      <td>0</td>\n",
       "      <td>238246.104213</td>\n",
       "      <td>7.702141e+06</td>\n",
       "      <td>-41.514018</td>\n",
       "      <td>-20.762135</td>\n",
       "      <td>978591.406605</td>\n",
       "      <td>0.053423</td>\n",
       "      <td>-60.488437</td>\n",
       "      <td>-43.934469</td>\n",
       "      <td>03122019_996</td>\n",
       "    </tr>\n",
       "    <tr>\n",
       "      <th>1</th>\n",
       "      <td>2</td>\n",
       "      <td>2239.410</td>\n",
       "      <td>15:12:00</td>\n",
       "      <td>2019/12/03</td>\n",
       "      <td>152.06</td>\n",
       "      <td>0</td>\n",
       "      <td>0</td>\n",
       "      <td>0</td>\n",
       "      <td>0</td>\n",
       "      <td>0</td>\n",
       "      <td>239573.565307</td>\n",
       "      <td>7.702483e+06</td>\n",
       "      <td>-41.501226</td>\n",
       "      <td>-20.759230</td>\n",
       "      <td>978591.445776</td>\n",
       "      <td>0.066119</td>\n",
       "      <td>-59.465181</td>\n",
       "      <td>-42.450200</td>\n",
       "      <td>03122019_996</td>\n",
       "    </tr>\n",
       "    <tr>\n",
       "      <th>2</th>\n",
       "      <td>3</td>\n",
       "      <td>2246.380</td>\n",
       "      <td>16:06:00</td>\n",
       "      <td>2019/12/03</td>\n",
       "      <td>117.30</td>\n",
       "      <td>0</td>\n",
       "      <td>0</td>\n",
       "      <td>0</td>\n",
       "      <td>0</td>\n",
       "      <td>0</td>\n",
       "      <td>241216.748955</td>\n",
       "      <td>7.704176e+06</td>\n",
       "      <td>-41.485206</td>\n",
       "      <td>-20.744179</td>\n",
       "      <td>978598.473518</td>\n",
       "      <td>0.077715</td>\n",
       "      <td>-58.374970</td>\n",
       "      <td>-45.249511</td>\n",
       "      <td>03122019_996</td>\n",
       "    </tr>\n",
       "    <tr>\n",
       "      <th>3</th>\n",
       "      <td>4</td>\n",
       "      <td>2245.710</td>\n",
       "      <td>16:46:00</td>\n",
       "      <td>2019/12/03</td>\n",
       "      <td>129.10</td>\n",
       "      <td>0</td>\n",
       "      <td>0</td>\n",
       "      <td>0</td>\n",
       "      <td>0</td>\n",
       "      <td>0</td>\n",
       "      <td>243071.287960</td>\n",
       "      <td>7.702906e+06</td>\n",
       "      <td>-41.467595</td>\n",
       "      <td>-20.755897</td>\n",
       "      <td>978597.809879</td>\n",
       "      <td>0.081974</td>\n",
       "      <td>-57.417961</td>\n",
       "      <td>-42.972124</td>\n",
       "      <td>03122019_996</td>\n",
       "    </tr>\n",
       "    <tr>\n",
       "      <th>4</th>\n",
       "      <td>5</td>\n",
       "      <td>2249.620</td>\n",
       "      <td>17:13:00</td>\n",
       "      <td>2019/12/03</td>\n",
       "      <td>130.01</td>\n",
       "      <td>0</td>\n",
       "      <td>0</td>\n",
       "      <td>0</td>\n",
       "      <td>0</td>\n",
       "      <td>0</td>\n",
       "      <td>245332.547009</td>\n",
       "      <td>7.701803e+06</td>\n",
       "      <td>-41.446052</td>\n",
       "      <td>-20.766168</td>\n",
       "      <td>978601.745635</td>\n",
       "      <td>0.082319</td>\n",
       "      <td>-53.917425</td>\n",
       "      <td>-39.369761</td>\n",
       "      <td>03122019_996</td>\n",
       "    </tr>\n",
       "    <tr>\n",
       "      <th>...</th>\n",
       "      <td>...</td>\n",
       "      <td>...</td>\n",
       "      <td>...</td>\n",
       "      <td>...</td>\n",
       "      <td>...</td>\n",
       "      <td>...</td>\n",
       "      <td>...</td>\n",
       "      <td>...</td>\n",
       "      <td>...</td>\n",
       "      <td>...</td>\n",
       "      <td>...</td>\n",
       "      <td>...</td>\n",
       "      <td>...</td>\n",
       "      <td>...</td>\n",
       "      <td>...</td>\n",
       "      <td>...</td>\n",
       "      <td>...</td>\n",
       "      <td>...</td>\n",
       "      <td>...</td>\n",
       "    </tr>\n",
       "    <tr>\n",
       "      <th>222</th>\n",
       "      <td>223</td>\n",
       "      <td>2203.015</td>\n",
       "      <td>17:06:00</td>\n",
       "      <td>2019/12/16</td>\n",
       "      <td>264.94</td>\n",
       "      <td>0</td>\n",
       "      <td>0</td>\n",
       "      <td>0</td>\n",
       "      <td>0</td>\n",
       "      <td>0</td>\n",
       "      <td>245174.133206</td>\n",
       "      <td>7.717189e+06</td>\n",
       "      <td>-41.445344</td>\n",
       "      <td>-20.627243</td>\n",
       "      <td>978555.178643</td>\n",
       "      <td>0.096166</td>\n",
       "      <td>-65.657039</td>\n",
       "      <td>-36.011181</td>\n",
       "      <td>16122019_996</td>\n",
       "    </tr>\n",
       "    <tr>\n",
       "      <th>223</th>\n",
       "      <td>224</td>\n",
       "      <td>2168.435</td>\n",
       "      <td>09:38:00</td>\n",
       "      <td>2019/12/17</td>\n",
       "      <td>204.11</td>\n",
       "      <td>0</td>\n",
       "      <td>0</td>\n",
       "      <td>0</td>\n",
       "      <td>0</td>\n",
       "      <td>0</td>\n",
       "      <td>239604.189758</td>\n",
       "      <td>7.711266e+06</td>\n",
       "      <td>-41.499631</td>\n",
       "      <td>-20.679943</td>\n",
       "      <td>978573.732084</td>\n",
       "      <td>-0.030230</td>\n",
       "      <td>-62.206932</td>\n",
       "      <td>-39.367738</td>\n",
       "      <td>17122019_965</td>\n",
       "    </tr>\n",
       "    <tr>\n",
       "      <th>224</th>\n",
       "      <td>225</td>\n",
       "      <td>2164.150</td>\n",
       "      <td>11:52:00</td>\n",
       "      <td>2019/12/17</td>\n",
       "      <td>226.73</td>\n",
       "      <td>0</td>\n",
       "      <td>0</td>\n",
       "      <td>0</td>\n",
       "      <td>0</td>\n",
       "      <td>0</td>\n",
       "      <td>237502.245723</td>\n",
       "      <td>7.711667e+06</td>\n",
       "      <td>-41.519734</td>\n",
       "      <td>-20.676036</td>\n",
       "      <td>978569.446411</td>\n",
       "      <td>0.024382</td>\n",
       "      <td>-61.810408</td>\n",
       "      <td>-36.440115</td>\n",
       "      <td>17122019_965</td>\n",
       "    </tr>\n",
       "    <tr>\n",
       "      <th>225</th>\n",
       "      <td>226</td>\n",
       "      <td>2135.695</td>\n",
       "      <td>15:49:00</td>\n",
       "      <td>2019/12/17</td>\n",
       "      <td>443.57</td>\n",
       "      <td>0</td>\n",
       "      <td>0</td>\n",
       "      <td>0</td>\n",
       "      <td>0</td>\n",
       "      <td>0</td>\n",
       "      <td>240697.890125</td>\n",
       "      <td>7.698939e+06</td>\n",
       "      <td>-41.490961</td>\n",
       "      <td>-20.791377</td>\n",
       "      <td>978540.768876</td>\n",
       "      <td>0.125092</td>\n",
       "      <td>-54.725712</td>\n",
       "      <td>-5.091783</td>\n",
       "      <td>17122019_965</td>\n",
       "    </tr>\n",
       "    <tr>\n",
       "      <th>226</th>\n",
       "      <td>227</td>\n",
       "      <td>2165.480</td>\n",
       "      <td>16:38:00</td>\n",
       "      <td>2019/12/17</td>\n",
       "      <td>293.06</td>\n",
       "      <td>0</td>\n",
       "      <td>0</td>\n",
       "      <td>0</td>\n",
       "      <td>0</td>\n",
       "      <td>0</td>\n",
       "      <td>235344.656608</td>\n",
       "      <td>7.697817e+06</td>\n",
       "      <td>-41.542518</td>\n",
       "      <td>-20.800757</td>\n",
       "      <td>978570.866953</td>\n",
       "      <td>0.119784</td>\n",
       "      <td>-54.794586</td>\n",
       "      <td>-22.002199</td>\n",
       "      <td>17122019_965</td>\n",
       "    </tr>\n",
       "  </tbody>\n",
       "</table>\n",
       "<p>227 rows × 19 columns</p>\n",
       "</div>"
      ],
      "text/plain": [
       "     Station   Reading      Time        Date  Elevation  Height  Water  Ice  \\\n",
       "0          1  2239.390  14:28:00  2019/12/03     147.94       0      0    0   \n",
       "1          2  2239.410  15:12:00  2019/12/03     152.06       0      0    0   \n",
       "2          3  2246.380  16:06:00  2019/12/03     117.30       0      0    0   \n",
       "3          4  2245.710  16:46:00  2019/12/03     129.10       0      0    0   \n",
       "4          5  2249.620  17:13:00  2019/12/03     130.01       0      0    0   \n",
       "..       ...       ...       ...         ...        ...     ...    ...  ...   \n",
       "222      223  2203.015  17:06:00  2019/12/16     264.94       0      0    0   \n",
       "223      224  2168.435  09:38:00  2019/12/17     204.11       0      0    0   \n",
       "224      225  2164.150  11:52:00  2019/12/17     226.73       0      0    0   \n",
       "225      226  2135.695  15:49:00  2019/12/17     443.57       0      0    0   \n",
       "226      227  2165.480  16:38:00  2019/12/17     293.06       0      0    0   \n",
       "\n",
       "     Terrain  Slope              X             Y  Longitude   Latitude  \\\n",
       "0          0      0  238246.104213  7.702141e+06 -41.514018 -20.762135   \n",
       "1          0      0  239573.565307  7.702483e+06 -41.501226 -20.759230   \n",
       "2          0      0  241216.748955  7.704176e+06 -41.485206 -20.744179   \n",
       "3          0      0  243071.287960  7.702906e+06 -41.467595 -20.755897   \n",
       "4          0      0  245332.547009  7.701803e+06 -41.446052 -20.766168   \n",
       "..       ...    ...            ...           ...        ...        ...   \n",
       "222        0      0  245174.133206  7.717189e+06 -41.445344 -20.627243   \n",
       "223        0      0  239604.189758  7.711266e+06 -41.499631 -20.679943   \n",
       "224        0      0  237502.245723  7.711667e+06 -41.519734 -20.676036   \n",
       "225        0      0  240697.890125  7.698939e+06 -41.490961 -20.791377   \n",
       "226        0      0  235344.656608  7.697817e+06 -41.542518 -20.800757   \n",
       "\n",
       "           Gravity  TideCorr    Bouguer    FreeAir        Source  \n",
       "0    978591.406605  0.053423 -60.488437 -43.934469  03122019_996  \n",
       "1    978591.445776  0.066119 -59.465181 -42.450200  03122019_996  \n",
       "2    978598.473518  0.077715 -58.374970 -45.249511  03122019_996  \n",
       "3    978597.809879  0.081974 -57.417961 -42.972124  03122019_996  \n",
       "4    978601.745635  0.082319 -53.917425 -39.369761  03122019_996  \n",
       "..             ...       ...        ...        ...           ...  \n",
       "222  978555.178643  0.096166 -65.657039 -36.011181  16122019_996  \n",
       "223  978573.732084 -0.030230 -62.206932 -39.367738  17122019_965  \n",
       "224  978569.446411  0.024382 -61.810408 -36.440115  17122019_965  \n",
       "225  978540.768876  0.125092 -54.725712  -5.091783  17122019_965  \n",
       "226  978570.866953  0.119784 -54.794586 -22.002199  17122019_965  \n",
       "\n",
       "[227 rows x 19 columns]"
      ]
     },
     "execution_count": 36,
     "metadata": {},
     "output_type": "execute_result"
    }
   ],
   "source": [
    "# data = pd.read_csv(path_gravity)\n",
    "data = pd.read_csv('gravity_table.csv')\n",
    "data"
   ]
  },
  {
   "cell_type": "code",
   "execution_count": 37,
   "metadata": {},
   "outputs": [
    {
     "name": "stdout",
     "output_type": "stream",
     "text": [
      "-20.5533338333333\n",
      "-20.8007570833333\n",
      "-41.2805198611111\n",
      "-41.5569883888889\n"
     ]
    }
   ],
   "source": [
    "print(np.max(data.Latitude))\n",
    "print(np.min(data.Latitude))\n",
    "print(np.max(data.Longitude))\n",
    "print(np.min(data.Longitude))\n"
   ]
  },
  {
   "cell_type": "code",
   "execution_count": 38,
   "metadata": {
    "id": "_Ya73vhgdCVk"
   },
   "outputs": [],
   "source": [
    "topography = xr.load_dataarray(path_topography)\n",
    "geoid = xr.load_dataarray(path_geoid)"
   ]
  },
  {
   "cell_type": "code",
   "execution_count": 39,
   "metadata": {
    "id": "WHqq2Y5TdvRy"
   },
   "outputs": [],
   "source": [
    "# West, East, South, North (degrees)\n",
    "region = (-42, -41, -21, -20)\n",
    "region = (-41.5569883888889, -41.2805198611111, -20.8007570833333, -20.5533338333333)\n",
    "# Pad the region for slicing the grids\n",
    "region_pad = vd.pad_region(region, pad=0)"
   ]
  },
  {
   "cell_type": "code",
   "execution_count": 40,
   "metadata": {
    "colab": {
     "base_uri": "https://localhost:8080/",
     "height": 424
    },
    "id": "2s8Hqw56eAJF",
    "outputId": "d1b0a1e1-d59b-4efd-dd65-812b35e1c3ee"
   },
   "outputs": [],
   "source": [
    "# data = data[vd.inside((data.Longitude, data.Latitude), region)]\n",
    "# data"
   ]
  },
  {
   "cell_type": "code",
   "execution_count": 41,
   "metadata": {
    "colab": {
     "base_uri": "https://localhost:8080/",
     "height": 751
    },
    "id": "IqxfmQvSeAp6",
    "outputId": "a87a928c-3622-4e04-e556-0300f753e295"
   },
   "outputs": [
    {
     "data": {
      "text/html": [
       "<div><svg style=\"position: absolute; width: 0; height: 0; overflow: hidden\">\n",
       "<defs>\n",
       "<symbol id=\"icon-database\" viewBox=\"0 0 32 32\">\n",
       "<path d=\"M16 0c-8.837 0-16 2.239-16 5v4c0 2.761 7.163 5 16 5s16-2.239 16-5v-4c0-2.761-7.163-5-16-5z\"></path>\n",
       "<path d=\"M16 17c-8.837 0-16-2.239-16-5v6c0 2.761 7.163 5 16 5s16-2.239 16-5v-6c0 2.761-7.163 5-16 5z\"></path>\n",
       "<path d=\"M16 26c-8.837 0-16-2.239-16-5v6c0 2.761 7.163 5 16 5s16-2.239 16-5v-6c0 2.761-7.163 5-16 5z\"></path>\n",
       "</symbol>\n",
       "<symbol id=\"icon-file-text2\" viewBox=\"0 0 32 32\">\n",
       "<path d=\"M28.681 7.159c-0.694-0.947-1.662-2.053-2.724-3.116s-2.169-2.030-3.116-2.724c-1.612-1.182-2.393-1.319-2.841-1.319h-15.5c-1.378 0-2.5 1.121-2.5 2.5v27c0 1.378 1.122 2.5 2.5 2.5h23c1.378 0 2.5-1.122 2.5-2.5v-19.5c0-0.448-0.137-1.23-1.319-2.841zM24.543 5.457c0.959 0.959 1.712 1.825 2.268 2.543h-4.811v-4.811c0.718 0.556 1.584 1.309 2.543 2.268zM28 29.5c0 0.271-0.229 0.5-0.5 0.5h-23c-0.271 0-0.5-0.229-0.5-0.5v-27c0-0.271 0.229-0.5 0.5-0.5 0 0 15.499-0 15.5 0v7c0 0.552 0.448 1 1 1h7v19.5z\"></path>\n",
       "<path d=\"M23 26h-14c-0.552 0-1-0.448-1-1s0.448-1 1-1h14c0.552 0 1 0.448 1 1s-0.448 1-1 1z\"></path>\n",
       "<path d=\"M23 22h-14c-0.552 0-1-0.448-1-1s0.448-1 1-1h14c0.552 0 1 0.448 1 1s-0.448 1-1 1z\"></path>\n",
       "<path d=\"M23 18h-14c-0.552 0-1-0.448-1-1s0.448-1 1-1h14c0.552 0 1 0.448 1 1s-0.448 1-1 1z\"></path>\n",
       "</symbol>\n",
       "</defs>\n",
       "</svg>\n",
       "<style>/* CSS stylesheet for displaying xarray objects in jupyterlab.\n",
       " *\n",
       " */\n",
       "\n",
       ":root {\n",
       "  --xr-font-color0: var(--jp-content-font-color0, rgba(0, 0, 0, 1));\n",
       "  --xr-font-color2: var(--jp-content-font-color2, rgba(0, 0, 0, 0.54));\n",
       "  --xr-font-color3: var(--jp-content-font-color3, rgba(0, 0, 0, 0.38));\n",
       "  --xr-border-color: var(--jp-border-color2, #e0e0e0);\n",
       "  --xr-disabled-color: var(--jp-layout-color3, #bdbdbd);\n",
       "  --xr-background-color: var(--jp-layout-color0, white);\n",
       "  --xr-background-color-row-even: var(--jp-layout-color1, white);\n",
       "  --xr-background-color-row-odd: var(--jp-layout-color2, #eeeeee);\n",
       "}\n",
       "\n",
       "html[theme=dark],\n",
       "body[data-theme=dark],\n",
       "body.vscode-dark {\n",
       "  --xr-font-color0: rgba(255, 255, 255, 1);\n",
       "  --xr-font-color2: rgba(255, 255, 255, 0.54);\n",
       "  --xr-font-color3: rgba(255, 255, 255, 0.38);\n",
       "  --xr-border-color: #1F1F1F;\n",
       "  --xr-disabled-color: #515151;\n",
       "  --xr-background-color: #111111;\n",
       "  --xr-background-color-row-even: #111111;\n",
       "  --xr-background-color-row-odd: #313131;\n",
       "}\n",
       "\n",
       ".xr-wrap {\n",
       "  display: block !important;\n",
       "  min-width: 300px;\n",
       "  max-width: 700px;\n",
       "}\n",
       "\n",
       ".xr-text-repr-fallback {\n",
       "  /* fallback to plain text repr when CSS is not injected (untrusted notebook) */\n",
       "  display: none;\n",
       "}\n",
       "\n",
       ".xr-header {\n",
       "  padding-top: 6px;\n",
       "  padding-bottom: 6px;\n",
       "  margin-bottom: 4px;\n",
       "  border-bottom: solid 1px var(--xr-border-color);\n",
       "}\n",
       "\n",
       ".xr-header > div,\n",
       ".xr-header > ul {\n",
       "  display: inline;\n",
       "  margin-top: 0;\n",
       "  margin-bottom: 0;\n",
       "}\n",
       "\n",
       ".xr-obj-type,\n",
       ".xr-array-name {\n",
       "  margin-left: 2px;\n",
       "  margin-right: 10px;\n",
       "}\n",
       "\n",
       ".xr-obj-type {\n",
       "  color: var(--xr-font-color2);\n",
       "}\n",
       "\n",
       ".xr-sections {\n",
       "  padding-left: 0 !important;\n",
       "  display: grid;\n",
       "  grid-template-columns: 150px auto auto 1fr 20px 20px;\n",
       "}\n",
       "\n",
       ".xr-section-item {\n",
       "  display: contents;\n",
       "}\n",
       "\n",
       ".xr-section-item input {\n",
       "  display: none;\n",
       "}\n",
       "\n",
       ".xr-section-item input + label {\n",
       "  color: var(--xr-disabled-color);\n",
       "}\n",
       "\n",
       ".xr-section-item input:enabled + label {\n",
       "  cursor: pointer;\n",
       "  color: var(--xr-font-color2);\n",
       "}\n",
       "\n",
       ".xr-section-item input:enabled + label:hover {\n",
       "  color: var(--xr-font-color0);\n",
       "}\n",
       "\n",
       ".xr-section-summary {\n",
       "  grid-column: 1;\n",
       "  color: var(--xr-font-color2);\n",
       "  font-weight: 500;\n",
       "}\n",
       "\n",
       ".xr-section-summary > span {\n",
       "  display: inline-block;\n",
       "  padding-left: 0.5em;\n",
       "}\n",
       "\n",
       ".xr-section-summary-in:disabled + label {\n",
       "  color: var(--xr-font-color2);\n",
       "}\n",
       "\n",
       ".xr-section-summary-in + label:before {\n",
       "  display: inline-block;\n",
       "  content: '►';\n",
       "  font-size: 11px;\n",
       "  width: 15px;\n",
       "  text-align: center;\n",
       "}\n",
       "\n",
       ".xr-section-summary-in:disabled + label:before {\n",
       "  color: var(--xr-disabled-color);\n",
       "}\n",
       "\n",
       ".xr-section-summary-in:checked + label:before {\n",
       "  content: '▼';\n",
       "}\n",
       "\n",
       ".xr-section-summary-in:checked + label > span {\n",
       "  display: none;\n",
       "}\n",
       "\n",
       ".xr-section-summary,\n",
       ".xr-section-inline-details {\n",
       "  padding-top: 4px;\n",
       "  padding-bottom: 4px;\n",
       "}\n",
       "\n",
       ".xr-section-inline-details {\n",
       "  grid-column: 2 / -1;\n",
       "}\n",
       "\n",
       ".xr-section-details {\n",
       "  display: none;\n",
       "  grid-column: 1 / -1;\n",
       "  margin-bottom: 5px;\n",
       "}\n",
       "\n",
       ".xr-section-summary-in:checked ~ .xr-section-details {\n",
       "  display: contents;\n",
       "}\n",
       "\n",
       ".xr-array-wrap {\n",
       "  grid-column: 1 / -1;\n",
       "  display: grid;\n",
       "  grid-template-columns: 20px auto;\n",
       "}\n",
       "\n",
       ".xr-array-wrap > label {\n",
       "  grid-column: 1;\n",
       "  vertical-align: top;\n",
       "}\n",
       "\n",
       ".xr-preview {\n",
       "  color: var(--xr-font-color3);\n",
       "}\n",
       "\n",
       ".xr-array-preview,\n",
       ".xr-array-data {\n",
       "  padding: 0 5px !important;\n",
       "  grid-column: 2;\n",
       "}\n",
       "\n",
       ".xr-array-data,\n",
       ".xr-array-in:checked ~ .xr-array-preview {\n",
       "  display: none;\n",
       "}\n",
       "\n",
       ".xr-array-in:checked ~ .xr-array-data,\n",
       ".xr-array-preview {\n",
       "  display: inline-block;\n",
       "}\n",
       "\n",
       ".xr-dim-list {\n",
       "  display: inline-block !important;\n",
       "  list-style: none;\n",
       "  padding: 0 !important;\n",
       "  margin: 0;\n",
       "}\n",
       "\n",
       ".xr-dim-list li {\n",
       "  display: inline-block;\n",
       "  padding: 0;\n",
       "  margin: 0;\n",
       "}\n",
       "\n",
       ".xr-dim-list:before {\n",
       "  content: '(';\n",
       "}\n",
       "\n",
       ".xr-dim-list:after {\n",
       "  content: ')';\n",
       "}\n",
       "\n",
       ".xr-dim-list li:not(:last-child):after {\n",
       "  content: ',';\n",
       "  padding-right: 5px;\n",
       "}\n",
       "\n",
       ".xr-has-index {\n",
       "  font-weight: bold;\n",
       "}\n",
       "\n",
       ".xr-var-list,\n",
       ".xr-var-item {\n",
       "  display: contents;\n",
       "}\n",
       "\n",
       ".xr-var-item > div,\n",
       ".xr-var-item label,\n",
       ".xr-var-item > .xr-var-name span {\n",
       "  background-color: var(--xr-background-color-row-even);\n",
       "  margin-bottom: 0;\n",
       "}\n",
       "\n",
       ".xr-var-item > .xr-var-name:hover span {\n",
       "  padding-right: 5px;\n",
       "}\n",
       "\n",
       ".xr-var-list > li:nth-child(odd) > div,\n",
       ".xr-var-list > li:nth-child(odd) > label,\n",
       ".xr-var-list > li:nth-child(odd) > .xr-var-name span {\n",
       "  background-color: var(--xr-background-color-row-odd);\n",
       "}\n",
       "\n",
       ".xr-var-name {\n",
       "  grid-column: 1;\n",
       "}\n",
       "\n",
       ".xr-var-dims {\n",
       "  grid-column: 2;\n",
       "}\n",
       "\n",
       ".xr-var-dtype {\n",
       "  grid-column: 3;\n",
       "  text-align: right;\n",
       "  color: var(--xr-font-color2);\n",
       "}\n",
       "\n",
       ".xr-var-preview {\n",
       "  grid-column: 4;\n",
       "}\n",
       "\n",
       ".xr-index-preview {\n",
       "  grid-column: 2 / 5;\n",
       "  color: var(--xr-font-color2);\n",
       "}\n",
       "\n",
       ".xr-var-name,\n",
       ".xr-var-dims,\n",
       ".xr-var-dtype,\n",
       ".xr-preview,\n",
       ".xr-attrs dt {\n",
       "  white-space: nowrap;\n",
       "  overflow: hidden;\n",
       "  text-overflow: ellipsis;\n",
       "  padding-right: 10px;\n",
       "}\n",
       "\n",
       ".xr-var-name:hover,\n",
       ".xr-var-dims:hover,\n",
       ".xr-var-dtype:hover,\n",
       ".xr-attrs dt:hover {\n",
       "  overflow: visible;\n",
       "  width: auto;\n",
       "  z-index: 1;\n",
       "}\n",
       "\n",
       ".xr-var-attrs,\n",
       ".xr-var-data,\n",
       ".xr-index-data {\n",
       "  display: none;\n",
       "  background-color: var(--xr-background-color) !important;\n",
       "  padding-bottom: 5px !important;\n",
       "}\n",
       "\n",
       ".xr-var-attrs-in:checked ~ .xr-var-attrs,\n",
       ".xr-var-data-in:checked ~ .xr-var-data,\n",
       ".xr-index-data-in:checked ~ .xr-index-data {\n",
       "  display: block;\n",
       "}\n",
       "\n",
       ".xr-var-data > table {\n",
       "  float: right;\n",
       "}\n",
       "\n",
       ".xr-var-name span,\n",
       ".xr-var-data,\n",
       ".xr-index-name div,\n",
       ".xr-index-data,\n",
       ".xr-attrs {\n",
       "  padding-left: 25px !important;\n",
       "}\n",
       "\n",
       ".xr-attrs,\n",
       ".xr-var-attrs,\n",
       ".xr-var-data,\n",
       ".xr-index-data {\n",
       "  grid-column: 1 / -1;\n",
       "}\n",
       "\n",
       "dl.xr-attrs {\n",
       "  padding: 0;\n",
       "  margin: 0;\n",
       "  display: grid;\n",
       "  grid-template-columns: 125px auto;\n",
       "}\n",
       "\n",
       ".xr-attrs dt,\n",
       ".xr-attrs dd {\n",
       "  padding: 0;\n",
       "  margin: 0;\n",
       "  float: left;\n",
       "  padding-right: 10px;\n",
       "  width: auto;\n",
       "}\n",
       "\n",
       ".xr-attrs dt {\n",
       "  font-weight: normal;\n",
       "  grid-column: 1;\n",
       "}\n",
       "\n",
       ".xr-attrs dt:hover span {\n",
       "  display: inline-block;\n",
       "  background: var(--xr-background-color);\n",
       "  padding-right: 10px;\n",
       "}\n",
       "\n",
       ".xr-attrs dd {\n",
       "  grid-column: 2;\n",
       "  white-space: pre-wrap;\n",
       "  word-break: break-all;\n",
       "}\n",
       "\n",
       ".xr-icon-database,\n",
       ".xr-icon-file-text2,\n",
       ".xr-no-icon {\n",
       "  display: inline-block;\n",
       "  vertical-align: middle;\n",
       "  width: 1em;\n",
       "  height: 1.5em !important;\n",
       "  stroke-width: 0;\n",
       "  stroke: currentColor;\n",
       "  fill: currentColor;\n",
       "}\n",
       "</style><pre class='xr-text-repr-fallback'>&lt;xarray.DataArray &#x27;topography&#x27; (latitude: 1, longitude: 2)&gt;\n",
       "array([[505., 274.]], dtype=float32)\n",
       "Coordinates:\n",
       "  * longitude  (longitude) float64 -41.5 -41.33\n",
       "  * latitude   (latitude) float64 -20.67\n",
       "Attributes:\n",
       "    Conventions:     CF-1.8\n",
       "    title:           Topographic and bathymetric height of ETOPO1 (ice surfac...\n",
       "    crs:             WGS84\n",
       "    source:          Generated from a spherical harmonic model by the ICGEM C...\n",
       "    license:         public domain\n",
       "    references:      https://doi.org/10.7289/V5C8276M\n",
       "    long_name:       topographic height above mean sea level\n",
       "    standard_name:   height_above_mean_sea_level\n",
       "    description:     height topography/bathymetry referenced to mean sea level\n",
       "    units:           m\n",
       "    actual_range:    [-10023.   6082.]\n",
       "    icgem_metadata:  generating_institute: gfz-potsdam\\ngenerating_date: 2021...</pre><div class='xr-wrap' style='display:none'><div class='xr-header'><div class='xr-obj-type'>xarray.DataArray</div><div class='xr-array-name'>'topography'</div><ul class='xr-dim-list'><li><span class='xr-has-index'>latitude</span>: 1</li><li><span class='xr-has-index'>longitude</span>: 2</li></ul></div><ul class='xr-sections'><li class='xr-section-item'><div class='xr-array-wrap'><input id='section-3fe1e2a3-89d5-474b-90cf-e2c911c1688f' class='xr-array-in' type='checkbox' checked><label for='section-3fe1e2a3-89d5-474b-90cf-e2c911c1688f' title='Show/hide data repr'><svg class='icon xr-icon-database'><use xlink:href='#icon-database'></use></svg></label><div class='xr-array-preview xr-preview'><span>505.0 274.0</span></div><div class='xr-array-data'><pre>array([[505., 274.]], dtype=float32)</pre></div></div></li><li class='xr-section-item'><input id='section-6a16a765-9788-4dde-854b-003bc40d65d8' class='xr-section-summary-in' type='checkbox'  checked><label for='section-6a16a765-9788-4dde-854b-003bc40d65d8' class='xr-section-summary' >Coordinates: <span>(2)</span></label><div class='xr-section-inline-details'></div><div class='xr-section-details'><ul class='xr-var-list'><li class='xr-var-item'><div class='xr-var-name'><span class='xr-has-index'>longitude</span></div><div class='xr-var-dims'>(longitude)</div><div class='xr-var-dtype'>float64</div><div class='xr-var-preview xr-preview'>-41.5 -41.33</div><input id='attrs-98c472ef-f369-497e-b325-60c7c7d84430' class='xr-var-attrs-in' type='checkbox' ><label for='attrs-98c472ef-f369-497e-b325-60c7c7d84430' title='Show/Hide attributes'><svg class='icon xr-icon-file-text2'><use xlink:href='#icon-file-text2'></use></svg></label><input id='data-b86068fb-809b-4d28-b55d-096959bb4534' class='xr-var-data-in' type='checkbox'><label for='data-b86068fb-809b-4d28-b55d-096959bb4534' title='Show/Hide data repr'><svg class='icon xr-icon-database'><use xlink:href='#icon-database'></use></svg></label><div class='xr-var-attrs'><dl class='xr-attrs'><dt><span>long_name :</span></dt><dd>longitude</dd><dt><span>standard_name :</span></dt><dd>longitude</dd><dt><span>units :</span></dt><dd>degrees_east</dd><dt><span>actual_range :</span></dt><dd>[-180.  180.]</dd></dl></div><div class='xr-var-data'><pre>array([-41.5     , -41.333333])</pre></div></li><li class='xr-var-item'><div class='xr-var-name'><span class='xr-has-index'>latitude</span></div><div class='xr-var-dims'>(latitude)</div><div class='xr-var-dtype'>float64</div><div class='xr-var-preview xr-preview'>-20.67</div><input id='attrs-d94fcb3a-6d36-4102-954a-892aa2a9d348' class='xr-var-attrs-in' type='checkbox' ><label for='attrs-d94fcb3a-6d36-4102-954a-892aa2a9d348' title='Show/Hide attributes'><svg class='icon xr-icon-file-text2'><use xlink:href='#icon-file-text2'></use></svg></label><input id='data-1038e700-47b0-4f40-ba40-5b2b6daef128' class='xr-var-data-in' type='checkbox'><label for='data-1038e700-47b0-4f40-ba40-5b2b6daef128' title='Show/Hide data repr'><svg class='icon xr-icon-database'><use xlink:href='#icon-database'></use></svg></label><div class='xr-var-attrs'><dl class='xr-attrs'><dt><span>long_name :</span></dt><dd>latitude</dd><dt><span>standard_name :</span></dt><dd>latitude</dd><dt><span>units :</span></dt><dd>degrees_north</dd><dt><span>actual_range :</span></dt><dd>[-90.  90.]</dd></dl></div><div class='xr-var-data'><pre>array([-20.666667])</pre></div></li></ul></div></li><li class='xr-section-item'><input id='section-64a5b88b-bb7a-403b-a43f-4fe33cfb3a33' class='xr-section-summary-in' type='checkbox'  ><label for='section-64a5b88b-bb7a-403b-a43f-4fe33cfb3a33' class='xr-section-summary' >Indexes: <span>(2)</span></label><div class='xr-section-inline-details'></div><div class='xr-section-details'><ul class='xr-var-list'><li class='xr-var-item'><div class='xr-index-name'><div>longitude</div></div><div class='xr-index-preview'>PandasIndex</div><div></div><input id='index-c5331c7c-9ea2-43c7-857d-071ed6f454ec' class='xr-index-data-in' type='checkbox'/><label for='index-c5331c7c-9ea2-43c7-857d-071ed6f454ec' title='Show/Hide index repr'><svg class='icon xr-icon-database'><use xlink:href='#icon-database'></use></svg></label><div class='xr-index-data'><pre>PandasIndex(Index([-41.5, -41.33333333333334], dtype=&#x27;float64&#x27;, name=&#x27;longitude&#x27;))</pre></div></li><li class='xr-var-item'><div class='xr-index-name'><div>latitude</div></div><div class='xr-index-preview'>PandasIndex</div><div></div><input id='index-cdb5f285-c6bf-4e76-a581-b84c02571f8a' class='xr-index-data-in' type='checkbox'/><label for='index-cdb5f285-c6bf-4e76-a581-b84c02571f8a' title='Show/Hide index repr'><svg class='icon xr-icon-database'><use xlink:href='#icon-database'></use></svg></label><div class='xr-index-data'><pre>PandasIndex(Index([-20.66666666666667], dtype=&#x27;float64&#x27;, name=&#x27;latitude&#x27;))</pre></div></li></ul></div></li><li class='xr-section-item'><input id='section-9354856e-50b9-46d8-b045-04bdda66a177' class='xr-section-summary-in' type='checkbox'  ><label for='section-9354856e-50b9-46d8-b045-04bdda66a177' class='xr-section-summary' >Attributes: <span>(12)</span></label><div class='xr-section-inline-details'></div><div class='xr-section-details'><dl class='xr-attrs'><dt><span>Conventions :</span></dt><dd>CF-1.8</dd><dt><span>title :</span></dt><dd>Topographic and bathymetric height of ETOPO1 (ice surface) at 10 arc-minute resolution</dd><dt><span>crs :</span></dt><dd>WGS84</dd><dt><span>source :</span></dt><dd>Generated from a spherical harmonic model by the ICGEM Calculation Service (http://icgem.gfz-potsdam.de)</dd><dt><span>license :</span></dt><dd>public domain</dd><dt><span>references :</span></dt><dd>https://doi.org/10.7289/V5C8276M</dd><dt><span>long_name :</span></dt><dd>topographic height above mean sea level</dd><dt><span>standard_name :</span></dt><dd>height_above_mean_sea_level</dd><dt><span>description :</span></dt><dd>height topography/bathymetry referenced to mean sea level</dd><dt><span>units :</span></dt><dd>m</dd><dt><span>actual_range :</span></dt><dd>[-10023.   6082.]</dd><dt><span>icgem_metadata :</span></dt><dd>generating_institute: gfz-potsdam\n",
       "generating_date: 2021/06/11\n",
       "product_type: topography\n",
       "body: earth\n",
       "modelname: etopo1-2250\n",
       "max_used_degree: 720\n",
       "gentlecut: 540 to 720\n",
       "functional: topography_shm (from shm)\n",
       "unit: meter\n",
       "refsysname: WGS84\n",
       "radiusrefsys: 6378137.000 m\n",
       "flatrefsys: 3.352810664747480E-03 (1/298.25722356300)\n",
       "long_lat_unit: degree\n",
       "latlimit_north: 90.000000000000\n",
       "latlimit_south: -90.000000000000\n",
       "longlimit_west: -180.00000000000\n",
       "longlimit_east: 180.00000000000\n",
       "gridstep: 0.16666666666667\n",
       "latitude_parallels: 1081\n",
       "longitude_parallels: 2161\n",
       "number_of_gridpoints: 2336041\n",
       "gapvalue: 99999.0000\n",
       "weighted_mean: -2.3852244E+03 meter\n",
       "maxvalue: 6.0816327E+03 meter\n",
       "minvalue: -1.0023309E+04 meter\n",
       "signal_wrms: 2.5003302E+03 meter\n",
       "grid_format: long_lat_value\n",
       "attributes: longitude latitude topography_shm\n",
       "attributes_units: deg. deg. meter</dd></dl></div></li></ul></div></div>"
      ],
      "text/plain": [
       "<xarray.DataArray 'topography' (latitude: 1, longitude: 2)>\n",
       "array([[505., 274.]], dtype=float32)\n",
       "Coordinates:\n",
       "  * longitude  (longitude) float64 -41.5 -41.33\n",
       "  * latitude   (latitude) float64 -20.67\n",
       "Attributes:\n",
       "    Conventions:     CF-1.8\n",
       "    title:           Topographic and bathymetric height of ETOPO1 (ice surfac...\n",
       "    crs:             WGS84\n",
       "    source:          Generated from a spherical harmonic model by the ICGEM C...\n",
       "    license:         public domain\n",
       "    references:      https://doi.org/10.7289/V5C8276M\n",
       "    long_name:       topographic height above mean sea level\n",
       "    standard_name:   height_above_mean_sea_level\n",
       "    description:     height topography/bathymetry referenced to mean sea level\n",
       "    units:           m\n",
       "    actual_range:    [-10023.   6082.]\n",
       "    icgem_metadata:  generating_institute: gfz-potsdam\\ngenerating_date: 2021..."
      ]
     },
     "execution_count": 41,
     "metadata": {},
     "output_type": "execute_result"
    }
   ],
   "source": [
    "geoid = geoid.sel(longitude=slice(*region_pad[:2]), latitude=slice(*region_pad[2:]))\n",
    "topography = topography.sel(longitude=slice(*region_pad[:2]), latitude=slice(*region_pad[2:]))\n",
    "topography"
   ]
  },
  {
   "cell_type": "code",
   "execution_count": 42,
   "metadata": {
    "colab": {
     "base_uri": "https://localhost:8080/",
     "height": 491
    },
    "id": "CKOUurxfeDTt",
    "outputId": "dd8f909c-53bf-4f61-9051-be99b9c76833"
   },
   "outputs": [
    {
     "name": "stderr",
     "output_type": "stream",
     "text": [
      "/tmp/ipykernel_17617/2254466209.py:3: FutureWarning: The 'color' parameter has been deprecated since v0.8.0 and will be removed in v0.12.0. Please use 'fill' instead.\n",
      "  fig.plot(\n"
     ]
    },
    {
     "data": {
      "image/png": "[encoded data removed]",
      "text/plain": [
       "<IPython.core.display.Image object>"
      ]
     },
     "metadata": {
      "image/png": {
       "width": 600
      }
     },
     "output_type": "display_data"
    }
   ],
   "source": [
    "fig = pygmt.Figure()\n",
    "pygmt.makecpt(cmap=\"viridis\", series=[data.Gravity.min(), data.Gravity.max()])\n",
    "fig.plot(\n",
    "    x=data.Longitude,\n",
    "    y=data.Latitude,\n",
    "    color=data.Gravity,\n",
    "    cmap=True,\n",
    "    style=\"c4p\",\n",
    "    projection=\"M15c\",\n",
    "    frame=\"afg\",\n",
    ")\n",
    "fig.colorbar(frame='af+l\"observed gravity [mGal]\"')\n",
    "fig.show(width=600)"
   ]
  },
  {
   "cell_type": "code",
   "execution_count": 43,
   "metadata": {
    "colab": {
     "base_uri": "https://localhost:8080/",
     "height": 652
    },
    "id": "naH6pNCheI5t",
    "outputId": "ed76697b-9859-4023-8698-2221c670dbd6"
   },
   "outputs": [
    {
     "ename": "IndexError",
     "evalue": "index 0 is out of bounds for axis 0 with size 0",
     "output_type": "error",
     "traceback": [
      "\u001b[0;31m---------------------------------------------------------------------------\u001b[0m",
      "\u001b[0;31mIndexError\u001b[0m                                Traceback (most recent call last)",
      "Cell \u001b[0;32mIn[43], line 2\u001b[0m\n\u001b[1;32m      1\u001b[0m fig \u001b[38;5;241m=\u001b[39m pygmt\u001b[38;5;241m.\u001b[39mFigure()\n\u001b[0;32m----> 2\u001b[0m \u001b[43mfig\u001b[49m\u001b[38;5;241;43m.\u001b[39;49m\u001b[43mgrdimage\u001b[49m\u001b[43m(\u001b[49m\u001b[43mtopography\u001b[49m\u001b[43m,\u001b[49m\u001b[43m \u001b[49m\u001b[43mprojection\u001b[49m\u001b[38;5;241;43m=\u001b[39;49m\u001b[38;5;124;43m\"\u001b[39;49m\u001b[38;5;124;43mM15c\u001b[39;49m\u001b[38;5;124;43m\"\u001b[39;49m\u001b[43m,\u001b[49m\u001b[43m \u001b[49m\u001b[43mcmap\u001b[49m\u001b[38;5;241;43m=\u001b[39;49m\u001b[38;5;124;43m\"\u001b[39;49m\u001b[38;5;124;43metopo1\u001b[39;49m\u001b[38;5;124;43m\"\u001b[39;49m\u001b[43m,\u001b[49m\u001b[43m \u001b[49m\u001b[43mframe\u001b[49m\u001b[38;5;241;43m=\u001b[39;49m\u001b[38;5;28;43;01mTrue\u001b[39;49;00m\u001b[43m)\u001b[49m\n\u001b[1;32m      3\u001b[0m fig\u001b[38;5;241m.\u001b[39mcolorbar(frame\u001b[38;5;241m=\u001b[39m\u001b[38;5;124m'\u001b[39m\u001b[38;5;124maf+l\u001b[39m\u001b[38;5;124m\"\u001b[39m\u001b[38;5;124mtopography [m]\u001b[39m\u001b[38;5;124m\"\u001b[39m\u001b[38;5;124m'\u001b[39m)\n\u001b[1;32m      4\u001b[0m fig\u001b[38;5;241m.\u001b[39mcoast(shorelines\u001b[38;5;241m=\u001b[39m\u001b[38;5;124m\"\u001b[39m\u001b[38;5;124mwhite\u001b[39m\u001b[38;5;124m\"\u001b[39m, area_thresh\u001b[38;5;241m=\u001b[39m\u001b[38;5;241m1e6\u001b[39m)\n",
      "File \u001b[0;32m~/anaconda3/envs/fatiando/lib/python3.10/site-packages/pygmt/helpers/decorators.py:818\u001b[0m, in \u001b[0;36mdeprecate_parameter.<locals>.deprecator.<locals>.new_module\u001b[0;34m(*args, **kwargs)\u001b[0m\n\u001b[1;32m    816\u001b[0m     warnings\u001b[38;5;241m.\u001b[39mwarn(msg, category\u001b[38;5;241m=\u001b[39m\u001b[38;5;167;01mFutureWarning\u001b[39;00m, stacklevel\u001b[38;5;241m=\u001b[39m\u001b[38;5;241m2\u001b[39m)\n\u001b[1;32m    817\u001b[0m     kwargs[newname] \u001b[38;5;241m=\u001b[39m kwargs\u001b[38;5;241m.\u001b[39mpop(oldname)\n\u001b[0;32m--> 818\u001b[0m \u001b[38;5;28;01mreturn\u001b[39;00m \u001b[43mmodule_func\u001b[49m\u001b[43m(\u001b[49m\u001b[38;5;241;43m*\u001b[39;49m\u001b[43margs\u001b[49m\u001b[43m,\u001b[49m\u001b[43m \u001b[49m\u001b[38;5;241;43m*\u001b[39;49m\u001b[38;5;241;43m*\u001b[39;49m\u001b[43mkwargs\u001b[49m\u001b[43m)\u001b[49m\n",
      "File \u001b[0;32m~/anaconda3/envs/fatiando/lib/python3.10/site-packages/pygmt/helpers/decorators.py:598\u001b[0m, in \u001b[0;36muse_alias.<locals>.alias_decorator.<locals>.new_module\u001b[0;34m(*args, **kwargs)\u001b[0m\n\u001b[1;32m    591\u001b[0m     msg \u001b[38;5;241m=\u001b[39m (\n\u001b[1;32m    592\u001b[0m         \u001b[38;5;124m\"\u001b[39m\u001b[38;5;124mParameters \u001b[39m\u001b[38;5;124m'\u001b[39m\u001b[38;5;124mY\u001b[39m\u001b[38;5;124m'\u001b[39m\u001b[38;5;124m and \u001b[39m\u001b[38;5;124m'\u001b[39m\u001b[38;5;124myshift\u001b[39m\u001b[38;5;124m'\u001b[39m\u001b[38;5;124m are deprecated since v0.8.0. \u001b[39m\u001b[38;5;124m\"\u001b[39m\n\u001b[1;32m    593\u001b[0m         \u001b[38;5;124m\"\u001b[39m\u001b[38;5;124mand will be removed in v0.12.0. \u001b[39m\u001b[38;5;124m\"\u001b[39m\n\u001b[1;32m    594\u001b[0m         \u001b[38;5;124m\"\u001b[39m\u001b[38;5;124mUse Figure.shift_origin(yshift=...) instead.\u001b[39m\u001b[38;5;124m\"\u001b[39m\n\u001b[1;32m    595\u001b[0m     )\n\u001b[1;32m    596\u001b[0m     warnings\u001b[38;5;241m.\u001b[39mwarn(msg, category\u001b[38;5;241m=\u001b[39m\u001b[38;5;167;01mSyntaxWarning\u001b[39;00m, stacklevel\u001b[38;5;241m=\u001b[39m\u001b[38;5;241m2\u001b[39m)\n\u001b[0;32m--> 598\u001b[0m \u001b[38;5;28;01mreturn\u001b[39;00m \u001b[43mmodule_func\u001b[49m\u001b[43m(\u001b[49m\u001b[38;5;241;43m*\u001b[39;49m\u001b[43margs\u001b[49m\u001b[43m,\u001b[49m\u001b[43m \u001b[49m\u001b[38;5;241;43m*\u001b[39;49m\u001b[38;5;241;43m*\u001b[39;49m\u001b[43mkwargs\u001b[49m\u001b[43m)\u001b[49m\n",
      "File \u001b[0;32m~/anaconda3/envs/fatiando/lib/python3.10/site-packages/pygmt/helpers/decorators.py:738\u001b[0m, in \u001b[0;36mkwargs_to_strings.<locals>.converter.<locals>.new_module\u001b[0;34m(*args, **kwargs)\u001b[0m\n\u001b[1;32m    736\u001b[0m             kwargs[arg] \u001b[38;5;241m=\u001b[39m separators[fmt]\u001b[38;5;241m.\u001b[39mjoin(\u001b[38;5;124mf\u001b[39m\u001b[38;5;124m\"\u001b[39m\u001b[38;5;132;01m{\u001b[39;00mitem\u001b[38;5;132;01m}\u001b[39;00m\u001b[38;5;124m\"\u001b[39m \u001b[38;5;28;01mfor\u001b[39;00m item \u001b[38;5;129;01min\u001b[39;00m value)\n\u001b[1;32m    737\u001b[0m \u001b[38;5;66;03m# Execute the original function and return its output\u001b[39;00m\n\u001b[0;32m--> 738\u001b[0m \u001b[38;5;28;01mreturn\u001b[39;00m \u001b[43mmodule_func\u001b[49m\u001b[43m(\u001b[49m\u001b[38;5;241;43m*\u001b[39;49m\u001b[43margs\u001b[49m\u001b[43m,\u001b[49m\u001b[43m \u001b[49m\u001b[38;5;241;43m*\u001b[39;49m\u001b[38;5;241;43m*\u001b[39;49m\u001b[43mkwargs\u001b[49m\u001b[43m)\u001b[49m\n",
      "File \u001b[0;32m~/anaconda3/envs/fatiando/lib/python3.10/site-packages/pygmt/src/grdimage.py:179\u001b[0m, in \u001b[0;36mgrdimage\u001b[0;34m(self, grid, **kwargs)\u001b[0m\n\u001b[1;32m    176\u001b[0m kwargs \u001b[38;5;241m=\u001b[39m \u001b[38;5;28mself\u001b[39m\u001b[38;5;241m.\u001b[39m_preprocess(\u001b[38;5;241m*\u001b[39m\u001b[38;5;241m*\u001b[39mkwargs)  \u001b[38;5;66;03m# pylint: disable=protected-access\u001b[39;00m\n\u001b[1;32m    178\u001b[0m \u001b[38;5;28;01mwith\u001b[39;00m Session() \u001b[38;5;28;01mas\u001b[39;00m lib:\n\u001b[0;32m--> 179\u001b[0m     \u001b[38;5;28;01mwith\u001b[39;00m lib\u001b[38;5;241m.\u001b[39mvirtualfile_from_data(\n\u001b[1;32m    180\u001b[0m         check_kind\u001b[38;5;241m=\u001b[39m\u001b[38;5;124m\"\u001b[39m\u001b[38;5;124mraster\u001b[39m\u001b[38;5;124m\"\u001b[39m, data\u001b[38;5;241m=\u001b[39mgrid\n\u001b[1;32m    181\u001b[0m     ) \u001b[38;5;28;01mas\u001b[39;00m fname, lib\u001b[38;5;241m.\u001b[39mvirtualfile_from_data(\n\u001b[1;32m    182\u001b[0m         check_kind\u001b[38;5;241m=\u001b[39m\u001b[38;5;124m\"\u001b[39m\u001b[38;5;124mraster\u001b[39m\u001b[38;5;124m\"\u001b[39m, data\u001b[38;5;241m=\u001b[39mkwargs\u001b[38;5;241m.\u001b[39mget(\u001b[38;5;124m\"\u001b[39m\u001b[38;5;124mI\u001b[39m\u001b[38;5;124m\"\u001b[39m), required_data\u001b[38;5;241m=\u001b[39m\u001b[38;5;28;01mFalse\u001b[39;00m\n\u001b[1;32m    183\u001b[0m     ) \u001b[38;5;28;01mas\u001b[39;00m shadegrid:\n\u001b[1;32m    184\u001b[0m         kwargs[\u001b[38;5;124m\"\u001b[39m\u001b[38;5;124mI\u001b[39m\u001b[38;5;124m\"\u001b[39m] \u001b[38;5;241m=\u001b[39m shadegrid\n\u001b[1;32m    185\u001b[0m         lib\u001b[38;5;241m.\u001b[39mcall_module(\n\u001b[1;32m    186\u001b[0m             module\u001b[38;5;241m=\u001b[39m\u001b[38;5;124m\"\u001b[39m\u001b[38;5;124mgrdimage\u001b[39m\u001b[38;5;124m\"\u001b[39m, args\u001b[38;5;241m=\u001b[39mbuild_arg_string(kwargs, infile\u001b[38;5;241m=\u001b[39mfname)\n\u001b[1;32m    187\u001b[0m         )\n",
      "File \u001b[0;32m~/anaconda3/envs/fatiando/lib/python3.10/contextlib.py:135\u001b[0m, in \u001b[0;36m_GeneratorContextManager.__enter__\u001b[0;34m(self)\u001b[0m\n\u001b[1;32m    133\u001b[0m \u001b[38;5;28;01mdel\u001b[39;00m \u001b[38;5;28mself\u001b[39m\u001b[38;5;241m.\u001b[39margs, \u001b[38;5;28mself\u001b[39m\u001b[38;5;241m.\u001b[39mkwds, \u001b[38;5;28mself\u001b[39m\u001b[38;5;241m.\u001b[39mfunc\n\u001b[1;32m    134\u001b[0m \u001b[38;5;28;01mtry\u001b[39;00m:\n\u001b[0;32m--> 135\u001b[0m     \u001b[38;5;28;01mreturn\u001b[39;00m \u001b[38;5;28;43mnext\u001b[39;49m\u001b[43m(\u001b[49m\u001b[38;5;28;43mself\u001b[39;49m\u001b[38;5;241;43m.\u001b[39;49m\u001b[43mgen\u001b[49m\u001b[43m)\u001b[49m\n\u001b[1;32m    136\u001b[0m \u001b[38;5;28;01mexcept\u001b[39;00m \u001b[38;5;167;01mStopIteration\u001b[39;00m:\n\u001b[1;32m    137\u001b[0m     \u001b[38;5;28;01mraise\u001b[39;00m \u001b[38;5;167;01mRuntimeError\u001b[39;00m(\u001b[38;5;124m\"\u001b[39m\u001b[38;5;124mgenerator didn\u001b[39m\u001b[38;5;124m'\u001b[39m\u001b[38;5;124mt yield\u001b[39m\u001b[38;5;124m\"\u001b[39m) \u001b[38;5;28;01mfrom\u001b[39;00m \u001b[38;5;28;01mNone\u001b[39;00m\n",
      "File \u001b[0;32m~/anaconda3/envs/fatiando/lib/python3.10/site-packages/pygmt/clib/session.py:1457\u001b[0m, in \u001b[0;36mSession.virtualfile_from_grid\u001b[0;34m(self, grid)\u001b[0m\n\u001b[1;32m   1449\u001b[0m _reg \u001b[38;5;241m=\u001b[39m {\u001b[38;5;241m0\u001b[39m: \u001b[38;5;124m\"\u001b[39m\u001b[38;5;124mGMT_GRID_NODE_REG\u001b[39m\u001b[38;5;124m\"\u001b[39m, \u001b[38;5;241m1\u001b[39m: \u001b[38;5;124m\"\u001b[39m\u001b[38;5;124mGMT_GRID_PIXEL_REG\u001b[39m\u001b[38;5;124m\"\u001b[39m}[grid\u001b[38;5;241m.\u001b[39mgmt\u001b[38;5;241m.\u001b[39mregistration]\n\u001b[1;32m   1451\u001b[0m \u001b[38;5;66;03m# Conversion to a C-contiguous array needs to be done here and not in\u001b[39;00m\n\u001b[1;32m   1452\u001b[0m \u001b[38;5;66;03m# put_matrix because we need to maintain a reference to the copy while\u001b[39;00m\n\u001b[1;32m   1453\u001b[0m \u001b[38;5;66;03m# it is being used by the C API. Otherwise, the array would be garbage\u001b[39;00m\n\u001b[1;32m   1454\u001b[0m \u001b[38;5;66;03m# collected and the memory freed. Creating it in this context manager\u001b[39;00m\n\u001b[1;32m   1455\u001b[0m \u001b[38;5;66;03m# guarantees that the copy will be around until the virtual file is\u001b[39;00m\n\u001b[1;32m   1456\u001b[0m \u001b[38;5;66;03m# closed. The conversion is implicit in dataarray_to_matrix.\u001b[39;00m\n\u001b[0;32m-> 1457\u001b[0m matrix, region, inc \u001b[38;5;241m=\u001b[39m \u001b[43mdataarray_to_matrix\u001b[49m\u001b[43m(\u001b[49m\u001b[43mgrid\u001b[49m\u001b[43m)\u001b[49m\n\u001b[1;32m   1459\u001b[0m family \u001b[38;5;241m=\u001b[39m \u001b[38;5;124m\"\u001b[39m\u001b[38;5;124mGMT_IS_GRID|GMT_VIA_MATRIX\u001b[39m\u001b[38;5;124m\"\u001b[39m\n\u001b[1;32m   1460\u001b[0m geometry \u001b[38;5;241m=\u001b[39m \u001b[38;5;124m\"\u001b[39m\u001b[38;5;124mGMT_IS_SURFACE\u001b[39m\u001b[38;5;124m\"\u001b[39m\n",
      "File \u001b[0;32m~/anaconda3/envs/fatiando/lib/python3.10/site-packages/pygmt/clib/conversion.py:97\u001b[0m, in \u001b[0;36mdataarray_to_matrix\u001b[0;34m(grid)\u001b[0m\n\u001b[1;32m     95\u001b[0m coord \u001b[38;5;241m=\u001b[39m grid\u001b[38;5;241m.\u001b[39mcoords[dim]\u001b[38;5;241m.\u001b[39mvalues\n\u001b[1;32m     96\u001b[0m coord_incs \u001b[38;5;241m=\u001b[39m coord[\u001b[38;5;241m1\u001b[39m:] \u001b[38;5;241m-\u001b[39m coord[\u001b[38;5;241m0\u001b[39m:\u001b[38;5;241m-\u001b[39m\u001b[38;5;241m1\u001b[39m]\n\u001b[0;32m---> 97\u001b[0m coord_inc \u001b[38;5;241m=\u001b[39m \u001b[43mcoord_incs\u001b[49m\u001b[43m[\u001b[49m\u001b[38;5;241;43m0\u001b[39;49m\u001b[43m]\u001b[49m\n\u001b[1;32m     98\u001b[0m \u001b[38;5;28;01mif\u001b[39;00m \u001b[38;5;129;01mnot\u001b[39;00m np\u001b[38;5;241m.\u001b[39mallclose(coord_incs, coord_inc):\n\u001b[1;32m     99\u001b[0m     \u001b[38;5;66;03m# calculate the increment if irregular spacing is found\u001b[39;00m\n\u001b[1;32m    100\u001b[0m     coord_inc \u001b[38;5;241m=\u001b[39m (coord[\u001b[38;5;241m-\u001b[39m\u001b[38;5;241m1\u001b[39m] \u001b[38;5;241m-\u001b[39m coord[\u001b[38;5;241m0\u001b[39m]) \u001b[38;5;241m/\u001b[39m (coord\u001b[38;5;241m.\u001b[39msize \u001b[38;5;241m-\u001b[39m \u001b[38;5;241m1\u001b[39m)\n",
      "\u001b[0;31mIndexError\u001b[0m: index 0 is out of bounds for axis 0 with size 0"
     ]
    }
   ],
   "source": [
    "fig = pygmt.Figure()\n",
    "fig.grdimage(topography, projection=\"M15c\", cmap=\"etopo1\", frame=True)\n",
    "fig.colorbar(frame='af+l\"topography [m]\"')\n",
    "fig.coast(shorelines=\"white\", area_thresh=1e6)\n",
    "fig.plot(\n",
    "    x=data.Longitude,\n",
    "    y=data.Latitude,\n",
    "    style=\"c0.04c\",\n",
    "    color=\"black\",\n",
    ")\n",
    "fig.show(width=600)"
   ]
  },
  {
   "cell_type": "markdown",
   "metadata": {
    "id": "IrI9RwRdeqaG"
   },
   "source": [
    "## Converte altitudes ortométricas para geométricas"
   ]
  },
  {
   "cell_type": "code",
   "execution_count": null,
   "metadata": {
    "colab": {
     "base_uri": "https://localhost:8080/",
     "height": 698
    },
    "id": "qa18B9vAefZz",
    "outputId": "1f6432fd-f947-4411-d8ac-3fff4929a42b"
   },
   "outputs": [],
   "source": [
    "topography_geometric = topography + geoid\n",
    "topography_geometric"
   ]
  },
  {
   "cell_type": "code",
   "execution_count": null,
   "metadata": {
    "colab": {
     "base_uri": "https://localhost:8080/",
     "height": 424
    },
    "id": "4n45-pC7eiIr",
    "outputId": "e3c74883-2519-4e7e-ae55-c30681b223c3"
   },
   "outputs": [],
   "source": [
    "geoid_table = vd.grid_to_table(geoid)\n",
    "interpolator = vd.KNeighbors()\n",
    "interpolator.fit((geoid_table.longitude, geoid_table.latitude), geoid_table.geoid)\n",
    "data = data.assign(geoid_m=interpolator.predict((data.longitude, data.latitude)))\n",
    "data = data.assign(height_geometric_m=data.height_sea_level_m + data.geoid_m)\n",
    "data"
   ]
  },
  {
   "cell_type": "markdown",
   "metadata": {
    "id": "6Tl-oIBbfhRo"
   },
   "source": [
    "## Distúrbio da gravidade"
   ]
  },
  {
   "cell_type": "code",
   "execution_count": null,
   "metadata": {
    "colab": {
     "base_uri": "https://localhost:8080/",
     "height": 424
    },
    "id": "BY9bOuUWfQ47",
    "outputId": "926a026c-8515-494a-cad5-3fbe00dfffd1"
   },
   "outputs": [],
   "source": [
    "data = data.assign(\n",
    "    normal_gravity_mgal=bl.WGS84.normal_gravity(data.latitude, data.height_geometric_m)\n",
    ")\n",
    "data = data.assign(gravity_disturbance_mgal=data.gravity_mgal - data.normal_gravity_mgal)\n",
    "data"
   ]
  },
  {
   "cell_type": "code",
   "execution_count": null,
   "metadata": {
    "colab": {
     "base_uri": "https://localhost:8080/",
     "height": 491
    },
    "id": "sb269fskfsyw",
    "outputId": "73ccd46a-f8e5-4225-8b3d-c0529cfc02bb"
   },
   "outputs": [],
   "source": [
    "fig = pygmt.Figure()\n",
    "maxabs = vd.maxabs(data.gravity_disturbance_mgal)\n",
    "pygmt.makecpt(cmap=\"polar+h\", series=[-maxabs, maxabs])\n",
    "fig.plot(\n",
    "    x=data.longitude,\n",
    "    y=data.latitude,\n",
    "    color=data.gravity_disturbance_mgal,\n",
    "    cmap=True,\n",
    "    style=\"c4p\",\n",
    "    projection=\"M15c\",\n",
    "    frame=\"af\",\n",
    ")\n",
    "fig.colorbar(frame='af+l\"gravity disturbance [mGal]\"')\n",
    "fig.show(width=600)"
   ]
  },
  {
   "cell_type": "markdown",
   "metadata": {
    "id": "srbzpoU8f3Lt"
   },
   "source": [
    "## Correção topográfica\n",
    "\n",
    "![](https://www.fatiando.org/tutorials/_images/topographic-correction.svg)"
   ]
  },
  {
   "cell_type": "code",
   "execution_count": null,
   "metadata": {
    "id": "UpUf2cLsfypW"
   },
   "outputs": [],
   "source": [
    "projection = pyproj.Proj(proj=\"merc\", lat_ts=data.latitude.mean())"
   ]
  },
  {
   "cell_type": "code",
   "execution_count": null,
   "metadata": {
    "colab": {
     "base_uri": "https://localhost:8080/",
     "height": 424
    },
    "id": "cPQASstcvRju",
    "outputId": "b1063f75-0908-4bc6-f17d-6f2269758cfc"
   },
   "outputs": [],
   "source": [
    "easting, northing = projection(data.longitude.values, data.latitude.values)\n",
    "data = data.assign(easting_m=easting, northing_m=northing)\n",
    "data"
   ]
  },
  {
   "cell_type": "code",
   "execution_count": null,
   "metadata": {
    "colab": {
     "base_uri": "https://localhost:8080/",
     "height": 962
    },
    "id": "ci6V6lsQwFmi",
    "outputId": "48643f1d-681c-4fed-b5da-567ba962d396"
   },
   "outputs": [],
   "source": [
    "topography_proj = vd.project_grid(topography_geometric, projection, method=\"nearest\")\n",
    "topography_proj"
   ]
  },
  {
   "cell_type": "code",
   "execution_count": null,
   "metadata": {
    "colab": {
     "base_uri": "https://localhost:8080/",
     "height": 534
    },
    "id": "YQCzWgwuxZ4N",
    "outputId": "af5dae5f-8745-4ee6-de63-20415f308ea0"
   },
   "outputs": [],
   "source": [
    "topography_density = np.where(topography_proj > 0, 2670, 1040 - 2670)\n",
    "topography_model = hm.prism_layer(\n",
    "    coordinates=(topography_proj.easting, topography_proj.northing),\n",
    "    surface=topography_proj,\n",
    "    reference=0,\n",
    "    properties={\"density\": topography_density}\n",
    ")\n",
    "topography_model"
   ]
  },
  {
   "cell_type": "code",
   "execution_count": null,
   "metadata": {
    "colab": {
     "base_uri": "https://localhost:8080/",
     "height": 534
    },
    "id": "DdJpYw-DyIOK",
    "outputId": "f691df97-7929-4c75-8ce3-4ba2f29289db"
   },
   "outputs": [],
   "source": [
    "fig = pygmt.Figure()\n",
    "scale = vd.maxabs(topography_model.density)\n",
    "pygmt.makecpt(cmap=\"roma+h\", reverse=True, series=[-scale, scale])\n",
    "fig.grdimage(topography_model.density, projection=\"X15c\", frame=True)\n",
    "fig.colorbar(frame='af+l\"Density of the prism model [kg/m3]\"')\n",
    "fig.show()"
   ]
  },
  {
   "cell_type": "code",
   "execution_count": null,
   "metadata": {
    "id": "DcCeqVaGy4nO"
   },
   "outputs": [],
   "source": [
    "coordinates = (data.easting_m, data.northing_m, data.height_geometric_m)\n",
    "terrain_effect = topography_model.prism_layer.gravity(coordinates, field=\"g_z\")"
   ]
  },
  {
   "cell_type": "code",
   "execution_count": null,
   "metadata": {
    "colab": {
     "base_uri": "https://localhost:8080/",
     "height": 424
    },
    "id": "6HKWDgXCzEai",
    "outputId": "038ec359-65e1-48af-c2f2-821eff778767"
   },
   "outputs": [],
   "source": [
    "data = data.assign(\n",
    "    gravity_bouguer_mgal=data.gravity_disturbance_mgal - terrain_effect\n",
    ")\n",
    "data"
   ]
  },
  {
   "cell_type": "code",
   "execution_count": null,
   "metadata": {
    "colab": {
     "base_uri": "https://localhost:8080/",
     "height": 418
    },
    "id": "x2sJYAb90VmC",
    "outputId": "0a9e227f-0806-4830-b65c-c684f6b15766"
   },
   "outputs": [],
   "source": [
    "fig = pygmt.Figure()\n",
    "maxabs = vd.maxabs(data.gravity_bouguer_mgal)\n",
    "pygmt.makecpt(cmap=\"polar\", series=[-maxabs, maxabs])\n",
    "fig.plot(\n",
    "    x=data.longitude,\n",
    "    y=data.latitude,\n",
    "    color=data.gravity_bouguer_mgal,\n",
    "    cmap=True,\n",
    "    style=\"c4p\",\n",
    "    projection=\"M15c\",\n",
    "    frame=True,\n",
    ")\n",
    "fig.colorbar(frame='af+l\"Bouguer disturbance [mGal]\"')\n",
    "fig.show()"
   ]
  },
  {
   "cell_type": "markdown",
   "metadata": {
    "id": "RzViAb3A2K6w"
   },
   "source": [
    "## Separação regional residual"
   ]
  },
  {
   "cell_type": "code",
   "execution_count": null,
   "metadata": {
    "colab": {
     "base_uri": "https://localhost:8080/",
     "height": 479
    },
    "id": "HbLA3coo2Fsy",
    "outputId": "dc32ed79-37c9-4e75-8967-a22af67227f0"
   },
   "outputs": [],
   "source": [
    "regional = vd.Trend(degree=3).fit(coordinates, data.gravity_bouguer_mgal)\n",
    "data = data.assign(\n",
    "    regional_mgal=regional.predict(coordinates),\n",
    ")\n",
    "data = data.assign(\n",
    "    residual_mgal=data.gravity_bouguer_mgal - data.regional_mgal,\n",
    ")\n",
    "data"
   ]
  },
  {
   "cell_type": "code",
   "execution_count": null,
   "metadata": {
    "colab": {
     "base_uri": "https://localhost:8080/",
     "height": 418
    },
    "id": "rdNmjLXj2vag",
    "outputId": "3dcc1597-b4ef-4a59-d421-dbd107e0d40e"
   },
   "outputs": [],
   "source": [
    "fig = pygmt.Figure()\n",
    "maxabs = vd.maxabs(data.regional_mgal)\n",
    "pygmt.makecpt(cmap=\"polar\", series=[-maxabs, maxabs])\n",
    "fig.plot(\n",
    "    x=data.longitude,\n",
    "    y=data.latitude,\n",
    "    color=data.regional_mgal,\n",
    "    cmap=True,\n",
    "    style=\"c4p\",\n",
    "    projection=\"M15c\",\n",
    "    frame=True,\n",
    ")\n",
    "fig.colorbar(frame='af+l\"Regional [mGal]\"')\n",
    "fig.show()"
   ]
  },
  {
   "cell_type": "code",
   "execution_count": null,
   "metadata": {
    "colab": {
     "base_uri": "https://localhost:8080/",
     "height": 418
    },
    "id": "PlAJoVwS22Qg",
    "outputId": "215cf0e1-6a82-49cb-efa6-3df14708279b"
   },
   "outputs": [],
   "source": [
    "fig = pygmt.Figure()\n",
    "maxabs = vd.maxabs(data.residual_mgal)\n",
    "pygmt.makecpt(cmap=\"polar\", series=[-maxabs, maxabs])\n",
    "fig.plot(\n",
    "    x=data.longitude,\n",
    "    y=data.latitude,\n",
    "    color=data.residual_mgal,\n",
    "    cmap=True,\n",
    "    style=\"c4p\",\n",
    "    projection=\"M15c\",\n",
    "    frame=True,\n",
    ")\n",
    "fig.colorbar(frame='af+l\"Residual [mGal]\"')\n",
    "fig.show()"
   ]
  },
  {
   "cell_type": "markdown",
   "metadata": {
    "id": "pmnOXoXu3LGc"
   },
   "source": [
    "## Interpolação com fontes equivalentes"
   ]
  },
  {
   "cell_type": "code",
   "execution_count": null,
   "metadata": {
    "colab": {
     "base_uri": "https://localhost:8080/",
     "height": 135
    },
    "id": "M7mujy7U29_O",
    "outputId": "eb161c0d-b133-4340-df62-99828b624e3a"
   },
   "outputs": [],
   "source": [
    "eqs = hm.EquivalentSources(damping=10, depth=10e3)\n",
    "eqs.fit((data.easting_m, data.northing_m, data.height_geometric_m), data.residual_mgal)"
   ]
  },
  {
   "cell_type": "code",
   "execution_count": null,
   "metadata": {
    "colab": {
     "base_uri": "https://localhost:8080/",
     "height": 461
    },
    "id": "3aZTnVWR3esa",
    "outputId": "2fe369ab-cd7d-4fc5-8975-1194d3c0d479"
   },
   "outputs": [],
   "source": [
    "residual_grid = eqs.grid(\n",
    "    coordinates=vd.grid_coordinates(region, spacing=2 / 60, extra_coords=2.2e3),\n",
    "    data_names=\"gravity_residual\",\n",
    "    dims=(\"latitude\", \"longitude\"),\n",
    "    projection=projection,\n",
    ")\n",
    "residual_grid"
   ]
  },
  {
   "cell_type": "code",
   "execution_count": null,
   "metadata": {
    "colab": {
     "base_uri": "https://localhost:8080/",
     "height": 418
    },
    "id": "-hiuEyCY4uqb",
    "outputId": "a1c6686e-3c31-415d-aabc-6945a32d97bc"
   },
   "outputs": [],
   "source": [
    "fig = pygmt.Figure()\n",
    "scale = vd.maxabs(residual_grid.gravity_residual)\n",
    "pygmt.makecpt(cmap=\"polar\", series=[-scale, scale], no_bg=True)\n",
    "fig.grdimage(\n",
    "    residual_grid.gravity_residual,\n",
    "    shading=\"+a45+nt0.15\",\n",
    "    projection=\"M15c\",\n",
    "    frame=True,\n",
    ")\n",
    "fig.colorbar(frame='af+l\"residual field [mGal]\"')\n",
    "fig.plot(\n",
    "    x=data.longitude,\n",
    "    y=data.latitude,\n",
    "    style=\"c0.02c\",\n",
    "    color=\"black\",\n",
    ")\n",
    "fig.show()"
   ]
  },
  {
   "cell_type": "markdown",
   "metadata": {
    "id": "QA8bcyL_5VW2"
   },
   "source": [
    "![](https://www.fatiando.org/tutorials/_images/bushveld_igneous_complex_geology.jpg)"
   ]
  },
  {
   "cell_type": "code",
   "execution_count": null,
   "metadata": {
    "id": "u_1V9Hmd45aV"
   },
   "outputs": [],
   "source": []
  }
 ],
 "metadata": {
  "colab": {
   "provenance": []
  },
  "kernelspec": {
   "display_name": "Python 3 (ipykernel)",
   "language": "python",
   "name": "python3"
  },
  "language_info": {
   "codemirror_mode": {
    "name": "ipython",
    "version": 3
   },
   "file_extension": ".py",
   "mimetype": "text/x-python",
   "name": "python",
   "nbconvert_exporter": "python",
   "pygments_lexer": "ipython3",
   "version": "3.10.13"
  }
 },
 "nbformat": 4,
 "nbformat_minor": 4
}
